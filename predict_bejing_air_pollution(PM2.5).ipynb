{
 "cells": [
  {
   "cell_type": "markdown",
   "id": "f9289210",
   "metadata": {},
   "source": [
    "The goal of this project is to take the publically available Beijing weather data from 2013 to 2017 and apply machine learning techniques to see if we can predict the amount of PM2.5 concentration in the air given other environmental features."
   ]
  },
  {
   "cell_type": "markdown",
   "id": "55505085",
   "metadata": {},
   "source": [
    "## Company Introduction"
   ]
  },
  {
   "cell_type": "markdown",
   "id": "2ef20d63",
   "metadata": {},
   "source": [
    "client for this project is an air purifier company.\n",
    "\n",
    "   - One of the leading Global pollution controller organizations.\n",
    "   - The company is working its way for the betterment of the society by using advanced technologies to purify the air by removing harmful particles from the atmosphere.\n"
   ]
  },
  {
   "cell_type": "markdown",
   "id": "abdd1d22",
   "metadata": {},
   "source": [
    "### Current Scenario"
   ]
  },
  {
   "cell_type": "markdown",
   "id": "537c55fd",
   "metadata": {},
   "source": [
    "- As we know in recent years the pollution emitted per day has increased drastically, countries all around the world are taking up actions in order to tackle the rapid increase in pollution to avoid global warming.\n",
    "- Beijing’s pollution authority has collected data for the past 5 years and the data has been passed on to your client by the government of China.\n",
    "- The company calculates pollution using traditional or manual methods, so it needs a model to do the long process."
   ]
  },
  {
   "cell_type": "markdown",
   "id": "05bdc923",
   "metadata": {},
   "source": [
    "## Project Deliverables"
   ]
  },
  {
   "cell_type": "markdown",
   "id": "e963e432",
   "metadata": {},
   "source": [
    "- Machine Learning Task: **Regression**\n",
    "- Target Variable: **PM2.5**\n",
    "- Win Condition: **N/A (best possible model)**"
   ]
  },
  {
   "cell_type": "markdown",
   "id": "8ee8a258",
   "metadata": {},
   "source": [
    "### Project workflow"
   ]
  },
  {
   "cell_type": "markdown",
   "id": "0c6ec8de",
   "metadata": {},
   "source": [
    "\n",
    "This project utilizes the Supervised Machine Learning algorithms from python’s Scikit-learn library. The model we hope to succeed in training is a regression model and below are the steps we will go through in this jupyter notebook for this project:\n",
    "\n",
    "- Import the neccessary libraries and loading the data\n",
    "- Data preprocessing\n",
    "- Exploratory Data Ananlysis\n",
    "- Model training and Evaluation\n",
    "- Saving the model"
   ]
  },
  {
   "cell_type": "markdown",
   "id": "0d52f82f",
   "metadata": {},
   "source": [
    "## Data Description"
   ]
  },
  {
   "cell_type": "markdown",
   "id": "b5ec60b6",
   "metadata": {},
   "source": [
    "The dataset is divided into two parts: Train, and Test sets.\n",
    "\n",
    "### Train Set:\n",
    "- The train set contains 403776 rows and 17 columns.\n",
    "- The train set contains data from 2013-16.\n",
    "- The column PM2.5 is the target variable.\n",
    "\n",
    "### Test Set:\n",
    "- The test set contains 16728 rows and 16 columns.\n",
    "- The test set contains data for 2017.\n",
    "- The test set doesn’t contain the PM2.5 column.\n",
    "- PM2.5 needs to be predicted for the test set.\n"
   ]
  },
  {
   "cell_type": "markdown",
   "id": "bfab9352",
   "metadata": {},
   "source": [
    "## Dataset Feature Descitpion\n",
    "The Dataset contains the following columns:"
   ]
  },
  {
   "cell_type": "markdown",
   "id": "e47ec6c4",
   "metadata": {},
   "source": [
    "\n",
    "|Column Name\t| Description   |\n",
    "|---------------|-------------- :|\n",
    "|REF_NO\t| Index of rows|\n",
    "|year\t| Contains the year in which the data was Recorded|\n",
    "|month\t| Contains the month of the year in which the data was Recorded|\n",
    "|day\t| Contains the day of the month in which the data was Recorded|\n",
    "|hour\t| Contains at what hour of the day the data was Recorded|\n",
    "|**PM2.5**\t| **Atmospheric particulate matter (PM) that have a diameter less than 2.5 micrometers**|\n",
    "|PM10\t| Atmospheric particulate matter (PM) that have a diameter less than 10 micrometers|\n",
    "|SO2\t| SO2 concentration (ug/m^3)|\n",
    "|NO2\t| NO2 concentration (ug/m^3)|\n",
    "|CO\t    | CO concentration (ug/m^3)|\n",
    "|O3\t    | Ozone concentration (ug/m^3)|\n",
    "|Temp\t| temperature (degree Celsius)|\n",
    "|PRES\t| pressure (hPa)|\n",
    "|DEWP\t| dew point temperature (degree Celsius)|\n",
    "|RAIN\t| RAIN in (mm)|\n",
    "|wd\t    |wind direction|\n",
    "|WSPM\t| wind speed (m/s)|\n",
    "|station |\tname of the air-quality monitoring site |"
   ]
  },
  {
   "cell_type": "markdown",
   "id": "76c44ca6",
   "metadata": {},
   "source": [
    "### Import required packages"
   ]
  },
  {
   "cell_type": "code",
   "execution_count": 41,
   "id": "3776c3c7",
   "metadata": {},
   "outputs": [],
   "source": [
    "import numpy as np                     \n",
    "#import dtale                                       # Auto EDA library\n",
    "#import sweetviz as sv                              # Auto EDA library\n",
    "import pandas as pd\n",
    "pd.set_option('mode.chained_assignment', None)      # To suppress pandas warnings.\n",
    "#pd.set_option('display.max_colwidth', None)         # To display all the data in each column\n",
    "pd.set_option('display.max_columns', None)          # To display every column of the dataset in head()\n",
    "\n",
    "from pandas_profiling import ProfileReport  #for auto EDA report\n",
    "\n",
    "# For Random seed values\n",
    "from random import randint\n",
    "\n",
    "import warnings\n",
    "warnings.filterwarnings('ignore')  \n",
    "\n",
    "import matplotlib.pyplot as plt\n",
    "%matplotlib inline\n",
    "\n",
    "from scipy.stats import norm\n",
    "import seaborn as sns\n",
    "sns.set(style='whitegrid', font_scale=1.3, color_codes=True)      # To apply seaborn styles to the plots.\n",
    "\n",
    "# Install and update plotly using this command to the latest version (higher than version 4.0.0)\n",
    "\n",
    "#!pip install plotly --upgrade\n",
    "import plotly.graph_objs as go"
   ]
  },
  {
   "cell_type": "code",
   "execution_count": 42,
   "id": "615d920f",
   "metadata": {},
   "outputs": [
    {
     "data": {
      "text/html": [
       "<div>\n",
       "<style scoped>\n",
       "    .dataframe tbody tr th:only-of-type {\n",
       "        vertical-align: middle;\n",
       "    }\n",
       "\n",
       "    .dataframe tbody tr th {\n",
       "        vertical-align: top;\n",
       "    }\n",
       "\n",
       "    .dataframe thead th {\n",
       "        text-align: right;\n",
       "    }\n",
       "</style>\n",
       "<table border=\"1\" class=\"dataframe\">\n",
       "  <thead>\n",
       "    <tr style=\"text-align: right;\">\n",
       "      <th></th>\n",
       "      <th>REF_NO</th>\n",
       "      <th>year</th>\n",
       "      <th>month</th>\n",
       "      <th>day</th>\n",
       "      <th>hour</th>\n",
       "      <th>PM2.5</th>\n",
       "      <th>PM10</th>\n",
       "      <th>SO2</th>\n",
       "      <th>NO2</th>\n",
       "      <th>CO</th>\n",
       "      <th>O3</th>\n",
       "      <th>TEMP</th>\n",
       "      <th>PRES</th>\n",
       "      <th>DEWP</th>\n",
       "      <th>RAIN</th>\n",
       "      <th>wd</th>\n",
       "      <th>WSPM</th>\n",
       "      <th>station</th>\n",
       "    </tr>\n",
       "  </thead>\n",
       "  <tbody>\n",
       "    <tr>\n",
       "      <th>0</th>\n",
       "      <td>1</td>\n",
       "      <td>2013</td>\n",
       "      <td>3</td>\n",
       "      <td>1</td>\n",
       "      <td>0</td>\n",
       "      <td>4.0</td>\n",
       "      <td>4.0</td>\n",
       "      <td>4.0</td>\n",
       "      <td>7.0</td>\n",
       "      <td>300.0</td>\n",
       "      <td>77.0</td>\n",
       "      <td>-0.7</td>\n",
       "      <td>1023.0</td>\n",
       "      <td>-18.8</td>\n",
       "      <td>0.0</td>\n",
       "      <td>NNW</td>\n",
       "      <td>4.4</td>\n",
       "      <td>Aotizhongxin</td>\n",
       "    </tr>\n",
       "    <tr>\n",
       "      <th>1</th>\n",
       "      <td>2</td>\n",
       "      <td>2013</td>\n",
       "      <td>3</td>\n",
       "      <td>1</td>\n",
       "      <td>1</td>\n",
       "      <td>8.0</td>\n",
       "      <td>8.0</td>\n",
       "      <td>4.0</td>\n",
       "      <td>7.0</td>\n",
       "      <td>300.0</td>\n",
       "      <td>77.0</td>\n",
       "      <td>-1.1</td>\n",
       "      <td>1023.2</td>\n",
       "      <td>-18.2</td>\n",
       "      <td>0.0</td>\n",
       "      <td>N</td>\n",
       "      <td>4.7</td>\n",
       "      <td>Aotizhongxin</td>\n",
       "    </tr>\n",
       "    <tr>\n",
       "      <th>2</th>\n",
       "      <td>3</td>\n",
       "      <td>2013</td>\n",
       "      <td>3</td>\n",
       "      <td>1</td>\n",
       "      <td>2</td>\n",
       "      <td>7.0</td>\n",
       "      <td>7.0</td>\n",
       "      <td>5.0</td>\n",
       "      <td>10.0</td>\n",
       "      <td>300.0</td>\n",
       "      <td>73.0</td>\n",
       "      <td>-1.1</td>\n",
       "      <td>1023.5</td>\n",
       "      <td>-18.2</td>\n",
       "      <td>0.0</td>\n",
       "      <td>NNW</td>\n",
       "      <td>5.6</td>\n",
       "      <td>Aotizhongxin</td>\n",
       "    </tr>\n",
       "    <tr>\n",
       "      <th>3</th>\n",
       "      <td>4</td>\n",
       "      <td>2013</td>\n",
       "      <td>3</td>\n",
       "      <td>1</td>\n",
       "      <td>3</td>\n",
       "      <td>6.0</td>\n",
       "      <td>6.0</td>\n",
       "      <td>11.0</td>\n",
       "      <td>11.0</td>\n",
       "      <td>300.0</td>\n",
       "      <td>72.0</td>\n",
       "      <td>-1.4</td>\n",
       "      <td>1024.5</td>\n",
       "      <td>-19.4</td>\n",
       "      <td>0.0</td>\n",
       "      <td>NW</td>\n",
       "      <td>3.1</td>\n",
       "      <td>Aotizhongxin</td>\n",
       "    </tr>\n",
       "    <tr>\n",
       "      <th>4</th>\n",
       "      <td>5</td>\n",
       "      <td>2013</td>\n",
       "      <td>3</td>\n",
       "      <td>1</td>\n",
       "      <td>4</td>\n",
       "      <td>3.0</td>\n",
       "      <td>3.0</td>\n",
       "      <td>12.0</td>\n",
       "      <td>12.0</td>\n",
       "      <td>300.0</td>\n",
       "      <td>72.0</td>\n",
       "      <td>-2.0</td>\n",
       "      <td>1025.2</td>\n",
       "      <td>-19.5</td>\n",
       "      <td>0.0</td>\n",
       "      <td>N</td>\n",
       "      <td>2.0</td>\n",
       "      <td>Aotizhongxin</td>\n",
       "    </tr>\n",
       "  </tbody>\n",
       "</table>\n",
       "</div>"
      ],
      "text/plain": [
       "   REF_NO  year  month  day  hour  PM2.5  PM10   SO2   NO2     CO    O3  TEMP  \\\n",
       "0       1  2013      3    1     0    4.0   4.0   4.0   7.0  300.0  77.0  -0.7   \n",
       "1       2  2013      3    1     1    8.0   8.0   4.0   7.0  300.0  77.0  -1.1   \n",
       "2       3  2013      3    1     2    7.0   7.0   5.0  10.0  300.0  73.0  -1.1   \n",
       "3       4  2013      3    1     3    6.0   6.0  11.0  11.0  300.0  72.0  -1.4   \n",
       "4       5  2013      3    1     4    3.0   3.0  12.0  12.0  300.0  72.0  -2.0   \n",
       "\n",
       "     PRES  DEWP  RAIN   wd  WSPM       station  \n",
       "0  1023.0 -18.8   0.0  NNW   4.4  Aotizhongxin  \n",
       "1  1023.2 -18.2   0.0    N   4.7  Aotizhongxin  \n",
       "2  1023.5 -18.2   0.0  NNW   5.6  Aotizhongxin  \n",
       "3  1024.5 -19.4   0.0   NW   3.1  Aotizhongxin  \n",
       "4  1025.2 -19.5   0.0    N   2.0  Aotizhongxin  "
      ]
     },
     "execution_count": 42,
     "metadata": {},
     "output_type": "execute_result"
    }
   ],
   "source": [
    "df_train = pd.read_csv('beijing_train.csv')\n",
    "df_train.head()"
   ]
  },
  {
   "cell_type": "code",
   "execution_count": 43,
   "id": "2190e0c3",
   "metadata": {},
   "outputs": [
    {
     "name": "stdout",
     "output_type": "stream",
     "text": [
      "Train Data Shape (403776, 18)\n"
     ]
    }
   ],
   "source": [
    "print('Train Data Shape', df_train.shape)"
   ]
  },
  {
   "cell_type": "code",
   "execution_count": 44,
   "id": "a846e0c6",
   "metadata": {},
   "outputs": [
    {
     "name": "stdout",
     "output_type": "stream",
     "text": [
      "<class 'pandas.core.frame.DataFrame'>\n",
      "RangeIndex: 403776 entries, 0 to 403775\n",
      "Data columns (total 18 columns):\n",
      " #   Column   Non-Null Count   Dtype  \n",
      "---  ------   --------------   -----  \n",
      " 0   REF_NO   403776 non-null  int64  \n",
      " 1   year     403776 non-null  int64  \n",
      " 2   month    403776 non-null  int64  \n",
      " 3   day      403776 non-null  int64  \n",
      " 4   hour     403776 non-null  int64  \n",
      " 5   PM2.5    395301 non-null  float64\n",
      " 6   PM10     397554 non-null  float64\n",
      " 7   SO2      395000 non-null  float64\n",
      " 8   NO2      391917 non-null  float64\n",
      " 9   CO       383515 non-null  float64\n",
      " 10  O3       390769 non-null  float64\n",
      " 11  TEMP     403512 non-null  float64\n",
      " 12  PRES     403511 non-null  float64\n",
      " 13  DEWP     403507 non-null  float64\n",
      " 14  RAIN     403515 non-null  float64\n",
      " 15  wd       402387 non-null  object \n",
      " 16  WSPM     403538 non-null  float64\n",
      " 17  station  403776 non-null  object \n",
      "dtypes: float64(11), int64(5), object(2)\n",
      "memory usage: 55.5+ MB\n"
     ]
    }
   ],
   "source": [
    "df_train.info()"
   ]
  },
  {
   "cell_type": "markdown",
   "id": "6c7a7434",
   "metadata": {},
   "source": [
    "\n",
    "\n",
    "```info``` function gives us the following insights into the df_menu dataframe:\n",
    "\n",
    "  - There are a total of **403776 samples (rows)** and **18 columns** in the dataframe.\n",
    "  \n",
    "  - There are **5 columns** with a **numeric** datatype and **2 column** with an **object** datatype & **11 columns** with an **float** datatype\n",
    "  \n",
    "  - There are **few missing** values in the data."
   ]
  },
  {
   "cell_type": "code",
   "execution_count": 45,
   "id": "ea2c3c05",
   "metadata": {},
   "outputs": [
    {
     "name": "stdout",
     "output_type": "stream",
     "text": [
      "Are there any duplicated values in our data ? : False\n",
      "\n",
      "The total number of null values in each colum:\n"
     ]
    },
    {
     "data": {
      "text/plain": [
       "REF_NO         0\n",
       "year           0\n",
       "month          0\n",
       "day            0\n",
       "hour           0\n",
       "PM2.5       8475\n",
       "PM10        6222\n",
       "SO2         8776\n",
       "NO2        11859\n",
       "CO         20261\n",
       "O3         13007\n",
       "TEMP         264\n",
       "PRES         265\n",
       "DEWP         269\n",
       "RAIN         261\n",
       "wd          1389\n",
       "WSPM         238\n",
       "station        0\n",
       "dtype: int64"
      ]
     },
     "metadata": {},
     "output_type": "display_data"
    }
   ],
   "source": [
    "# duplicated and null values\n",
    "print('Are there any duplicated values in our data ? : {}\\n'.format(df_train.duplicated().any()))\n",
    "print('The total number of null values in each colum:')\n",
    "display(df_train.isnull().sum())"
   ]
  },
  {
   "cell_type": "code",
   "execution_count": 46,
   "id": "e42dd38b",
   "metadata": {},
   "outputs": [],
   "source": [
    "columns = df_train.columns"
   ]
  },
  {
   "cell_type": "code",
   "execution_count": 47,
   "id": "0a8e2f84",
   "metadata": {},
   "outputs": [
    {
     "data": {
      "text/plain": [
       "402387"
      ]
     },
     "execution_count": 47,
     "metadata": {},
     "output_type": "execute_result"
    }
   ],
   "source": [
    "#df_train['wd'].isnull().sum()/df_train['wd'].sum()\n",
    "df_train['wd'].count()"
   ]
  },
  {
   "cell_type": "code",
   "execution_count": 48,
   "id": "8cbc1918",
   "metadata": {},
   "outputs": [
    {
     "data": {
      "text/plain": [
       "Index(['REF_NO', 'year', 'month', 'day', 'hour', 'PM2.5', 'PM10', 'SO2', 'NO2',\n",
       "       'CO', 'O3', 'TEMP', 'PRES', 'DEWP', 'RAIN', 'wd', 'WSPM', 'station'],\n",
       "      dtype='object')"
      ]
     },
     "execution_count": 48,
     "metadata": {},
     "output_type": "execute_result"
    }
   ],
   "source": [
    "columns"
   ]
  },
  {
   "cell_type": "markdown",
   "id": "29850e3f",
   "metadata": {},
   "source": [
    " calculate the missing values % in each feature "
   ]
  },
  {
   "cell_type": "code",
   "execution_count": 56,
   "id": "c3346d2e",
   "metadata": {},
   "outputs": [
    {
     "name": "stdout",
     "output_type": "stream",
     "text": [
      "data type of feature PM2.5 is : float64 \n",
      "Missing values Percentage : 2.143935886830542\n",
      "******************************************************************\n",
      "data type of feature PM10 is : float64 \n",
      "Missing values Percentage : 1.565070405529815\n",
      "******************************************************************\n",
      "data type of feature SO2 is : float64 \n",
      "Missing values Percentage : 2.221772151898734\n",
      "******************************************************************\n",
      "data type of feature NO2 is : float64 \n",
      "Missing values Percentage : 3.0258957891594394\n",
      "******************************************************************\n",
      "data type of feature CO is : float64 \n",
      "Missing values Percentage : 5.282974590302857\n",
      "******************************************************************\n",
      "data type of feature O3 is : float64 \n",
      "Missing values Percentage : 3.328564957813952\n",
      "******************************************************************\n",
      "data type of feature TEMP is : float64 \n",
      "Missing values Percentage : 0.06542556355201332\n",
      "******************************************************************\n",
      "data type of feature PRES is : float64 \n",
      "Missing values Percentage : 0.06567355041126513\n",
      "******************************************************************\n",
      "data type of feature DEWP is : float64 \n",
      "Missing values Percentage : 0.06666551013984887\n",
      "******************************************************************\n",
      "data type of feature RAIN is : float64 \n",
      "Missing values Percentage : 0.06468161034905766\n",
      "******************************************************************\n",
      "data type of feature wd is : object \n",
      "Missing values Percentage : 0.345190078208292\n",
      "******************************************************************\n",
      "data type of feature WSPM is : float64 \n",
      "Missing values Percentage : 0.05897833661266101\n",
      "******************************************************************\n"
     ]
    }
   ],
   "source": [
    "for i in columns:\n",
    "    if df_train[i].isnull().sum()>0:\n",
    "        print(\"data type of feature {} is : {} \".format(i,df_train[i].dtype))\n",
    "        print('Missing values Percentage : {}'.format(df_train[i].isnull().sum()/df_train[i].count()*100))\n",
    "        print('******************************************************************')"
   ]
  },
  {
   "cell_type": "markdown",
   "id": "08629ac3",
   "metadata": {},
   "source": [
    "### treating missing values with mode"
   ]
  },
  {
   "cell_type": "code",
   "execution_count": 57,
   "id": "97755714",
   "metadata": {},
   "outputs": [
    {
     "data": {
      "text/plain": [
       "REF_NO     False\n",
       "year       False\n",
       "month      False\n",
       "day        False\n",
       "hour       False\n",
       "PM2.5      False\n",
       "PM10       False\n",
       "SO2        False\n",
       "NO2        False\n",
       "CO         False\n",
       "O3         False\n",
       "TEMP       False\n",
       "PRES       False\n",
       "DEWP       False\n",
       "RAIN       False\n",
       "wd         False\n",
       "WSPM       False\n",
       "station    False\n",
       "dtype: bool"
      ]
     },
     "execution_count": 57,
     "metadata": {},
     "output_type": "execute_result"
    }
   ],
   "source": [
    "# fill in the missing values with the mean of the particular column\n",
    "df_train.fillna(value=df_train.mean(),inplace=True)\n",
    "# replace the missing values for the wind direction with the modal value\n",
    "df_train.wd.fillna(value='NE',inplace=True)\n",
    "# let's check the data again if there are any missing values\n",
    "df_train.isnull().any()"
   ]
  },
  {
   "cell_type": "code",
   "execution_count": null,
   "id": "05d6dfdd",
   "metadata": {},
   "outputs": [],
   "source": []
  }
 ],
 "metadata": {
  "kernelspec": {
   "display_name": "Python 3",
   "language": "python",
   "name": "python3"
  },
  "language_info": {
   "codemirror_mode": {
    "name": "ipython",
    "version": 3
   },
   "file_extension": ".py",
   "mimetype": "text/x-python",
   "name": "python",
   "nbconvert_exporter": "python",
   "pygments_lexer": "ipython3",
   "version": "3.8.8"
  }
 },
 "nbformat": 4,
 "nbformat_minor": 5
}
